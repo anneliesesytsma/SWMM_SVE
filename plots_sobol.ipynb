{
 "cells": [
  {
   "cell_type": "markdown",
   "metadata": {},
   "source": [
    "# Plot results of Sobol sensitivity analysis"
   ]
  },
  {
   "cell_type": "markdown",
   "metadata": {},
   "source": [
    "### Import packages "
   ]
  },
  {
   "cell_type": "code",
   "execution_count": 24,
   "metadata": {},
   "outputs": [],
   "source": [
    "\n",
    "import itertools as it\n",
    "import numpy as np;\n",
    "import pandas as pd;\n",
    "from pandas import *\n",
    "import os, sys\n",
    "from os.path import dirname\n",
    "\n",
    "import matplotlib as mpl\n",
    "import matplotlib.pyplot as plt\n",
    "import matplotlib.font_manager as font_manager\n",
    "from matplotlib.colors import ListedColormap, LinearSegmentedColormap\n",
    "import seaborn as sns\n",
    "\n",
    "import string\n",
    "import plotly.graph_objects as go\n",
    "from textwrap import wrap\n",
    "import pickle\n",
    "import glob\n",
    "\n",
    "parent_dir = (dirname(os.getcwd()))\n",
    "\n",
    "import SALib\n",
    "from SALib.analyze import sobol\n",
    "from SALib.sample import saltelli\n",
    "from SALib.plotting.bar import plot as barplot\n"
   ]
  },
  {
   "cell_type": "markdown",
   "metadata": {},
   "source": [
    "### Set defaults for figures "
   ]
  },
  {
   "cell_type": "code",
   "execution_count": 25,
   "metadata": {},
   "outputs": [
    {
     "data": {
      "text/plain": [
       "<matplotlib.colors.ListedColormap at 0x12069d90>"
      ]
     },
     "execution_count": 25,
     "metadata": {},
     "output_type": "execute_result"
    }
   ],
   "source": [
    "title_font = {'fontname':'Myriad', 'size':'16', 'color':'black', 'weight':'normal',\n",
    "              'verticalalignment':'bottom'} # Bottom vertical alignment for more space\n",
    "axis_font = {'fontname':'Myriad', 'size':'16'}\n",
    "sub_plot = {'fontname':'Myriad', 'size':'18','color':'black', \n",
    "            'horizontalalignment':'left', 'verticalalignment':'center'}\n",
    "\n",
    "CB_color_cycle = ['#377eb8', '#ff7f00', '#4daf4a',\n",
    "                  '#f781bf', '#a65628', '#984ea3',\n",
    "                  '#999999', '#e41a1c', '#dede00']\n",
    "cb=sns.color_palette(CB_color_cycle,as_cmap=True)\n",
    "\n",
    "# sns.palplot(sns.color_palette(cb))\n",
    "cb=sns.color_palette(\"colorblind\")\n",
    "\n",
    "newcmp = ListedColormap(cb)\n",
    "newcmp"
   ]
  },
  {
   "cell_type": "markdown",
   "metadata": {},
   "source": [
    "### Define Sobol parameters"
   ]
  },
  {
   "cell_type": "code",
   "execution_count": 26,
   "metadata": {},
   "outputs": [],
   "source": [
    "problem = {\n",
    "    'num_vars': 6,\n",
    "    'names': ['1_k_width', '2_frouted','3_n_perv','4_n_imperv','5_d_perv','6_d_imperv'],\n",
    "    'bounds': [[0.01, 0.1],\n",
    "               [0.,1.],\n",
    "              [0.02,0.5],\n",
    "              [0.01,0.02],\n",
    "              [2,6],\n",
    "              [0,3]]}\n",
    "\n",
    "with open('sobol_problem.pickle', 'rb') as handle:\n",
    "    params = pickle.load(handle)\n",
    "    params_df = pd.DataFrame(params)"
   ]
  },
  {
   "cell_type": "code",
   "execution_count": 27,
   "metadata": {},
   "outputs": [
    {
     "name": "stdout",
     "output_type": "stream",
     "text": [
      "1400\n"
     ]
    },
    {
     "data": {
      "text/plain": [
       "1400"
      ]
     },
     "execution_count": 27,
     "metadata": {},
     "output_type": "execute_result"
    }
   ],
   "source": [
    "# check length\n",
    "len(params_df[1].unique())\n",
    "print(100*(2*6+2))\n",
    "len(params_df)"
   ]
  },
  {
   "cell_type": "markdown",
   "metadata": {},
   "source": [
    "### Plot sobol results"
   ]
  },
  {
   "cell_type": "code",
   "execution_count": 28,
   "metadata": {},
   "outputs": [],
   "source": [
    "def sobol_(Y,P,Ks,fI,S):\n",
    "    \"\"\"\n",
    "    \n",
    "    Function assign compile output files into a single file\n",
    "    and parameter names to sobol problem\n",
    "    \n",
    "    intputs:\n",
    "        Y = file path to output file\n",
    "        P = rainfall scenario\n",
    "        Ks = saturated hydraulic conductivity\n",
    "        fI = impervious fraction\n",
    "        S = slope\n",
    "        \n",
    "    outputs:\n",
    "        Si_df = dataframe of sobol variance metrics for the output file\n",
    "\n",
    "    \"\"\"\n",
    "\n",
    "    # analyze output file to get sobol metrics\n",
    "    Si = sobol.analyze(problem, Y, print_to_console=False)\n",
    "\n",
    "    #get variance metrics from Si\n",
    "    S1      = Si['S1']\n",
    "    S1_conf = Si['S1_conf']\n",
    "    ST      = Si['ST']\n",
    "    ST_conf = Si['ST_conf']\n",
    "    S2      = Si['S2']\n",
    "    S2_conf = Si['S2_conf']\n",
    "\n",
    "    # get parameters\n",
    "    k_width=params[:,0] \n",
    "    f_routed=params[:,1]\n",
    "    n_perv=params[:,2]\n",
    "    n_imperv= params[:,3]\n",
    "    d_perv=params[:,4]\n",
    "    d_imperv=params[:,5]\n",
    "    \n",
    "    zipped=zip(problem['names'], Si['S1'], Si['ST'], params.mean(axis=0))\n",
    "    Si_df=pd.DataFrame(zipped,columns=[\"Name\", \"1st\",\"Total\", \"Mean of Input\"])\n",
    "    Si_df['p'] = float(P)\n",
    "    Si_df['Ks'] = float(Ks)\n",
    "    Si_df['fI'] = float(fI)\n",
    "    Si_df['S'] = float(S)\n",
    "    \n",
    "    #return Si_df dataframe of the sobol metrics with associated P, Ks, fI, and S\n",
    "    return Si_df"
   ]
  },
  {
   "cell_type": "code",
   "execution_count": 29,
   "metadata": {},
   "outputs": [
    {
     "name": "stdout",
     "output_type": "stream",
     "text": [
      "P_2,Ks_20,fI_0.1,S_1\n",
      "P_2,Ks_20,fI_0.1,S_10\n",
      "P_2,Ks_20,fI_0.1,S_5\n",
      "P_2,Ks_20,fI_0.3,S_1\n",
      "P_2,Ks_20,fI_0.3,S_10\n",
      "P_2,Ks_20,fI_0.3,S_5\n",
      "P_2,Ks_20,fI_0.5,S_1\n",
      "P_2,Ks_20,fI_0.5,S_10\n",
      "P_2,Ks_20,fI_0.5,S_5\n",
      "P_2,Ks_20,fI_0.7,S_1\n",
      "P_2,Ks_20,fI_0.7,S_10\n",
      "P_2,Ks_20,fI_0.7,S_5\n",
      "P_2,Ks_20,fI_0.9,S_1\n",
      "P_2,Ks_20,fI_0.9,S_10\n",
      "P_2,Ks_20,fI_0.9,S_5\n",
      "P_2,Ks_50,fI_0.1,S_1\n",
      "P_2,Ks_50,fI_0.1,S_10\n",
      "P_2,Ks_50,fI_0.1,S_5\n",
      "P_2,Ks_50,fI_0.3,S_1\n",
      "P_2,Ks_50,fI_0.3,S_10\n",
      "P_2,Ks_50,fI_0.3,S_5\n",
      "P_2,Ks_50,fI_0.5,S_1\n",
      "P_2,Ks_50,fI_0.5,S_10\n",
      "P_2,Ks_50,fI_0.5,S_5\n",
      "P_2,Ks_50,fI_0.7,S_1\n",
      "P_2,Ks_50,fI_0.7,S_10\n",
      "P_2,Ks_50,fI_0.7,S_5\n",
      "P_2,Ks_50,fI_0.9,S_1\n",
      "P_2,Ks_50,fI_0.9,S_10\n",
      "P_2,Ks_50,fI_0.9,S_5\n",
      "P_2,Ks_80,fI_0.1,S_1\n",
      "P_2,Ks_80,fI_0.1,S_10\n",
      "P_2,Ks_80,fI_0.1,S_5\n",
      "P_2,Ks_80,fI_0.3,S_1\n",
      "P_2,Ks_80,fI_0.3,S_10\n",
      "P_2,Ks_80,fI_0.3,S_5\n",
      "P_2,Ks_80,fI_0.5,S_1\n",
      "P_2,Ks_80,fI_0.5,S_10\n",
      "P_2,Ks_80,fI_0.5,S_5\n",
      "P_2,Ks_80,fI_0.7,S_1\n",
      "P_2,Ks_80,fI_0.7,S_10\n",
      "P_2,Ks_80,fI_0.7,S_5\n",
      "P_2,Ks_80,fI_0.9,S_1\n",
      "P_2,Ks_80,fI_0.9,S_10\n",
      "P_2,Ks_80,fI_0.9,S_5\n",
      "P_5,Ks_20,fI_0.1,S_1\n",
      "P_5,Ks_20,fI_0.1,S_10\n",
      "P_5,Ks_20,fI_0.1,S_5\n",
      "P_5,Ks_20,fI_0.3,S_1\n",
      "P_5,Ks_20,fI_0.3,S_10\n",
      "P_5,Ks_20,fI_0.3,S_5\n",
      "P_5,Ks_20,fI_0.5,S_1\n",
      "P_5,Ks_20,fI_0.5,S_10\n",
      "P_5,Ks_20,fI_0.5,S_5\n",
      "P_5,Ks_20,fI_0.7,S_1\n",
      "P_5,Ks_20,fI_0.7,S_10\n",
      "P_5,Ks_20,fI_0.7,S_5\n",
      "P_5,Ks_20,fI_0.9,S_1\n",
      "P_5,Ks_20,fI_0.9,S_10\n",
      "P_5,Ks_20,fI_0.9,S_5\n",
      "P_5,Ks_50,fI_0.1,S_1\n",
      "P_5,Ks_50,fI_0.1,S_10\n",
      "P_5,Ks_50,fI_0.1,S_5\n",
      "P_5,Ks_50,fI_0.3,S_1\n",
      "P_5,Ks_50,fI_0.3,S_10\n",
      "P_5,Ks_50,fI_0.3,S_5\n",
      "P_5,Ks_50,fI_0.5,S_1\n",
      "P_5,Ks_50,fI_0.5,S_10\n",
      "P_5,Ks_50,fI_0.5,S_5\n",
      "P_5,Ks_50,fI_0.7,S_1\n",
      "P_5,Ks_50,fI_0.7,S_10\n",
      "P_5,Ks_50,fI_0.7,S_5\n",
      "P_5,Ks_50,fI_0.9,S_1\n",
      "P_5,Ks_50,fI_0.9,S_10\n",
      "P_5,Ks_50,fI_0.9,S_5\n",
      "P_5,Ks_80,fI_0.1,S_1\n",
      "P_5,Ks_80,fI_0.1,S_10\n",
      "P_5,Ks_80,fI_0.1,S_5\n",
      "P_5,Ks_80,fI_0.3,S_1\n",
      "P_5,Ks_80,fI_0.3,S_10\n",
      "P_5,Ks_80,fI_0.3,S_5\n",
      "P_5,Ks_80,fI_0.5,S_1\n",
      "P_5,Ks_80,fI_0.5,S_10\n",
      "P_5,Ks_80,fI_0.5,S_5\n",
      "P_5,Ks_80,fI_0.7,S_1\n",
      "P_5,Ks_80,fI_0.7,S_10\n",
      "P_5,Ks_80,fI_0.7,S_5\n",
      "P_5,Ks_80,fI_0.9,S_1\n",
      "P_5,Ks_80,fI_0.9,S_10\n",
      "P_5,Ks_80,fI_0.9,S_5\n",
      "P_8,Ks_20,fI_0.1,S_1\n",
      "P_8,Ks_20,fI_0.1,S_10\n",
      "P_8,Ks_20,fI_0.1,S_5\n",
      "P_8,Ks_20,fI_0.3,S_1\n",
      "P_8,Ks_20,fI_0.3,S_10\n",
      "P_8,Ks_20,fI_0.3,S_5\n",
      "P_8,Ks_20,fI_0.5,S_1\n",
      "P_8,Ks_20,fI_0.5,S_10\n",
      "P_8,Ks_20,fI_0.5,S_5\n",
      "P_8,Ks_20,fI_0.7,S_1\n",
      "P_8,Ks_20,fI_0.7,S_10\n",
      "P_8,Ks_20,fI_0.7,S_5\n",
      "P_8,Ks_20,fI_0.9,S_1\n",
      "P_8,Ks_20,fI_0.9,S_10\n",
      "P_8,Ks_20,fI_0.9,S_5\n",
      "P_8,Ks_50,fI_0.1,S_1\n",
      "P_8,Ks_50,fI_0.1,S_10\n",
      "P_8,Ks_50,fI_0.1,S_5\n",
      "P_8,Ks_50,fI_0.3,S_1\n",
      "P_8,Ks_50,fI_0.3,S_10\n",
      "P_8,Ks_50,fI_0.3,S_5\n",
      "P_8,Ks_50,fI_0.5,S_1\n",
      "P_8,Ks_50,fI_0.5,S_10\n",
      "P_8,Ks_50,fI_0.5,S_5\n",
      "P_8,Ks_50,fI_0.7,S_1\n",
      "P_8,Ks_50,fI_0.7,S_10\n",
      "P_8,Ks_50,fI_0.7,S_5\n",
      "P_8,Ks_50,fI_0.9,S_1\n",
      "P_8,Ks_50,fI_0.9,S_10\n",
      "P_8,Ks_50,fI_0.9,S_5\n",
      "P_8,Ks_80,fI_0.1,S_1\n",
      "P_8,Ks_80,fI_0.1,S_10\n",
      "P_8,Ks_80,fI_0.1,S_5\n",
      "P_8,Ks_80,fI_0.3,S_1\n",
      "P_8,Ks_80,fI_0.3,S_10\n",
      "P_8,Ks_80,fI_0.3,S_5\n",
      "P_8,Ks_80,fI_0.5,S_1\n",
      "P_8,Ks_80,fI_0.5,S_10\n",
      "P_8,Ks_80,fI_0.5,S_5\n",
      "P_8,Ks_80,fI_0.7,S_1\n",
      "P_8,Ks_80,fI_0.7,S_10\n",
      "P_8,Ks_80,fI_0.7,S_5\n",
      "P_8,Ks_80,fI_0.9,S_1\n",
      "P_8,Ks_80,fI_0.9,S_10\n",
      "P_8,Ks_80,fI_0.9,S_5\n"
     ]
    }
   ],
   "source": [
    "\n",
    "#loop through all files in sensitivity folder, apply the Sobol_ functions, compile into Si_all\n",
    "path = 'out\\\\sensitivity'\n",
    "allFiles = glob.glob(path + \"/*.pickle\")\n",
    "frame = pd.DataFrame()\n",
    "list_ = []\n",
    "\n",
    "for file_ in allFiles:\n",
    "    with open(file_, 'rb') as handle:\n",
    "        Y = pickle.load(handle)\n",
    "        scenario=file_.split(\"\\\\\")[2]\n",
    "        Pks=scenario.split(\".pickle\")[0]\n",
    "       \n",
    "        P_=Pks.split(\",\")[0]\n",
    "        P=P_.split(\"_\")[1]\n",
    "        Ks_=Pks.split(\",\")[1]\n",
    "        Ks=Ks_.split(\"_\")[1]\n",
    "        print(Pks)\n",
    "        fI=Pks.split(\",\")[2].split(\"_\")[1]\n",
    "        S=Pks.split(\",\")[3].split(\"_\")[1]\n",
    "\n",
    "        Pks=sobol_(Y,P,Ks,fI,S)\n",
    "    list_.append(Pks)\n",
    "    temp = pd.concat(list_)\n",
    "    Si_all=temp.reset_index().drop(['index'], axis=1)"
   ]
  },
  {
   "cell_type": "code",
   "execution_count": 12,
   "metadata": {},
   "outputs": [],
   "source": [
    "# get unique scenario values\n",
    "\n",
    "Si_all['p_Ks']=Si_all['p']/Si_all['Ks']*10.\n",
    "ratios = np.unique(Si_all.p_Ks)\n",
    "Ps = np.unique(Si_all.p)\n",
    "Kss = np.unique(Si_all.Ks)\n",
    "fIs = np.unique(Si_all.fI)\n",
    "Si_all.head()\n",
    "Ss = np.unique(Si_all.S)"
   ]
  },
  {
   "cell_type": "code",
   "execution_count": 14,
   "metadata": {},
   "outputs": [
    {
     "data": {
      "image/png": "[encoded data removed]",
      "text/plain": [
       "<Figure size 1080x216 with 5 Axes>"
      ]
     },
     "metadata": {
      "needs_background": "light"
     },
     "output_type": "display_data"
    },
    {
     "data": {
      "image/png": "[encoded data removed]",
      "text/plain": [
       "<Figure size 1080x216 with 5 Axes>"
      ]
     },
     "metadata": {
      "needs_background": "light"
     },
     "output_type": "display_data"
    },
    {
     "data": {
      "image/png": "[encoded data removed]",
      "text/plain": [
       "<Figure size 1080x216 with 5 Axes>"
      ]
     },
     "metadata": {
      "needs_background": "light"
     },
     "output_type": "display_data"
    }
   ],
   "source": [
    "#Plot total index across P, Ks, fI, and S scenarios\n",
    "\n",
    "colours = ['#1f78b4', '#f1a340', '#8da0cb', '#d8b365', '#66c2a5',\n",
    "           '#d95f02', '#b2df8a']\n",
    "\n",
    "\n",
    "for m,S in enumerate(Ss):  \n",
    "    Si_all_s1=Si_all[Si_all['S']==S]\n",
    "    fig, axes = plt.subplots(1,5,figsize = (15,3), sharex = True,sharey = True)\n",
    "    for i,scenario in enumerate(fIs):\n",
    "        dum = Si_all_s1[Si_all_s1.fI ==scenario]\n",
    "        dum2=dum.sort_values('p_Ks')\n",
    "        df = pd.pivot_table(data=dum2,\n",
    "                        index='p_Ks',\n",
    "                        values='Total',\n",
    "                        columns='Name',aggfunc=np.mean)\n",
    "\n",
    "        df.plot(kind='barh',stacked=True,ax=axes[i],color=colours)\n",
    "        axes[i].set_title(scenario)\n",
    "        axes[i].set_ylabel('')\n",
    "        axes[i].axvline(x=1,ls='dashed',color='black')\n",
    "        axes[i].set_xlabel('')\n",
    "#         if  i==4:\n",
    "#             axes[i].legend(fontsize=14,bbox_to_anchor=(1,1))\n",
    "#         else:\n",
    "        axes[i].legend_.remove()\n",
    "        for label in (axes[i].get_xticklabels() + axes[i].get_yticklabels()):\n",
    "            label.set_fontsize(14)  \n",
    "    #     axes[i].set_ylim(0,1)\n",
    "    sns.despine()\n",
    "    fig.subplots_adjust(hspace=1)\n",
    "    plt.tight_layout()\n",
    "    name='sensitivity_all_stacked'+str(S)+'.pdf'\n",
    "    plt.savefig(name)"
   ]
  },
  {
   "cell_type": "code",
   "execution_count": 20,
   "metadata": {},
   "outputs": [
    {
     "name": "stderr",
     "output_type": "stream",
     "text": [
      "findfont: Font family ['Myriad'] not found. Falling back to DejaVu Sans.\n"
     ]
    },
    {
     "data": {
      "image/png": "[encoded data removed]",
      "text/plain": [
       "<Figure size 576x288 with 1 Axes>"
      ]
     },
     "metadata": {
      "needs_background": "light"
     },
     "output_type": "display_data"
    }
   ],
   "source": [
    "#Plot total index as a simplified barplot for main text\n",
    "\n",
    "fig, axes = plt.subplots(1, figsize = (8,4))\n",
    "sns.barplot(data=Si_all,x='Name',y='Total',ax=axes,color='grey')\n",
    "plt.ylabel('Total contribution to variance',**axis_font)\n",
    "plt.ylim(0,1)\n",
    "sns.despine()\n",
    "for label in (axes.get_xticklabels() + axes.get_yticklabels()):\n",
    "    label.set_fontname('Myriad')\n",
    "    label.set_fontsize(14)  \n",
    "plt.tight_layout()\n",
    "plt.savefig('sensitivity_all.pdf')"
   ]
  },
  {
   "cell_type": "code",
   "execution_count": null,
   "metadata": {},
   "outputs": [],
   "source": []
  }
 ],
 "metadata": {
  "kernelspec": {
   "display_name": "Python 3",
   "language": "python",
   "name": "python3"
  },
  "language_info": {
   "codemirror_mode": {
    "name": "ipython",
    "version": 3
   },
   "file_extension": ".py",
   "mimetype": "text/x-python",
   "name": "python",
   "nbconvert_exporter": "python",
   "pygments_lexer": "ipython3",
   "version": "3.7.4"
  }
 },
 "nbformat": 4,
 "nbformat_minor": 2
}
