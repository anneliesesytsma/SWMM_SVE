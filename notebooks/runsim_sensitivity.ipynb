{
 "cells": [
  {
   "cell_type": "markdown",
   "metadata": {},
   "source": [
    "# Run Sobol sensitivity analysis"
   ]
  },
  {
   "cell_type": "markdown",
   "metadata": {},
   "source": [
    "### Import packages "
   ]
  },
  {
   "cell_type": "code",
   "execution_count": 8,
   "metadata": {},
   "outputs": [],
   "source": [
    "import seaborn as sns\n",
    "import itertools \n",
    "import numpy as np;\n",
    "import pandas as pd;\n",
    "import os,sys\n",
    "import matplotlib.pyplot as plt;\n",
    "import pickle\n",
    "\n",
    "from pyswmm import Simulation;\n",
    "from pyswmm import Subcatchments;\n",
    "from pyswmm import Nodes;\n",
    "from pyswmm import SystemStats;\n",
    "from pyswmm import Simulation;\n",
    "from swmmtoolbox import swmmtoolbox;\n",
    "from itertools import combinations\n",
    "from os.path import dirname\n",
    "from math import sqrt\n",
    "\n",
    "parent_dir = (dirname(os.getcwd()))\n",
    "current_dir = os.getcwd()\n",
    "sys.path.append(\"\\\\\".join([parent_dir, 'functions']) )\n",
    "\n",
    "for mod in ['swmm_sims', 'swmm_sobol']:\n",
    "    if mod in sys.modules: \n",
    "        del sys.modules[mod]\n",
    "        \n",
    "import swmm_sims,swmm_sobol\n",
    "from swmm_sims import *   \n",
    "from swmm_sobol import *\n",
    "\n",
    "if not sys.warnoptions:\n",
    "    import warnings\n",
    "    warnings.simplefilter(\"ignore\")\n",
    "    \n",
    "import SALib\n",
    "from SALib.analyze import sobol\n",
    "from SALib.sample import saltelli\n",
    "from SALib.analyze import sobol\n"
   ]
  },
  {
   "cell_type": "markdown",
   "metadata": {},
   "source": [
    "### Set defaults for figures "
   ]
  },
  {
   "cell_type": "code",
   "execution_count": 9,
   "metadata": {},
   "outputs": [],
   "source": [
    "\n",
    "title_font = {'fontname':'Myriad Pro', 'size':'16', 'color':'black', 'weight':'normal',\n",
    "              'verticalalignment':'bottom'} # Bottom vertical alignment for more space\n",
    "axis_font = {'fontname':'Myriad Pro', 'size':'16'}\n",
    "sub_plot = {'fontname':'Myriad Pro', 'size':'18','color':'black', \n",
    "            'horizontalalignment':'left', 'verticalalignment':'center'}"
   ]
  },
  {
   "cell_type": "markdown",
   "metadata": {},
   "source": [
    "### Define Sobol parameters"
   ]
  },
  {
   "cell_type": "code",
   "execution_count": 10,
   "metadata": {},
   "outputs": [],
   "source": [
    "problem = {\n",
    "    'num_vars': 6,\n",
    "    'names': ['k_width', 'frouted','n_perv','n_imperv','d_perv','d_imperv'],\n",
    "    'bounds': [[0.01, 0.1],\n",
    "               [0.,1.],\n",
    "              [0.02,0.5],\n",
    "              [0.01,0.02],\n",
    "              [2,6],\n",
    "              [0,3]]}\n",
    "\n",
    "param_values = saltelli.sample(problem, 100)\n",
    "Y = np.zeros([param_values.shape[0]])\n",
    "params_df=pd.DataFrame(param_values)\n",
    "\n",
    "file = os.path.join(parent_dir, 'out\\\\sobol_problem.pickle')\n",
    "with open(file, 'wb') as handle:\n",
    "    pickle.dump(param_values, handle, protocol=pickle.HIGHEST_PROTOCOL)\n"
   ]
  },
  {
   "cell_type": "code",
   "execution_count": 4,
   "metadata": {},
   "outputs": [
    {
     "data": {
      "text/plain": [
       "1400"
      ]
     },
     "execution_count": 4,
     "metadata": {},
     "output_type": "execute_result"
    }
   ],
   "source": [
    "#check length of sobol parameters\n",
    "len(params_df)"
   ]
  },
  {
   "cell_type": "markdown",
   "metadata": {},
   "source": [
    "### Run a test model to make sure .inp file is getting updated "
   ]
  },
  {
   "cell_type": "code",
   "execution_count": 6,
   "metadata": {},
   "outputs": [
    {
     "name": "stdout",
     "output_type": "stream",
     "text": [
      "original .inp file          S1               0.01       0.1        0          0          0          OUTLET    \n",
      "\n",
      "new parameters -->         S1                0.0168         0.2689         2.7217         3.1211\n",
      "updated .inp file          S1               0.0168       0.2689        2.7217          3.1211          0          OUTLET    \n",
      "\n"
     ]
    }
   ],
   "source": [
    "# enter inputs here\n",
    "P=2\n",
    "folder='sensitivity'\n",
    "# dur='30min'\n",
    "dstor_line = 63\n",
    "perm_line = 71\n",
    "\n",
    "#run path function to define write, read, and output file paths\n",
    "write_path,read_path,out_path,run=paths(P,parent_dir,'SWMM_inp\\\\sensitivity')\n",
    "\n",
    "\n",
    "#step through input and print the line of the .inp file to be updated\n",
    "with open(read_path) as f:\n",
    "    for i, line in enumerate(f, 1):\n",
    "        if i ==dstor_line:\n",
    "            break\n",
    "print(\"original .inp file         \", line) \n",
    "\n",
    "\n",
    "# pick some parameters from the param_values dictionary\n",
    "n_perv = round(param_values[1][2],4)\n",
    "n_imperv=round(param_values[1][3],4)\n",
    "d_perv=round(param_values[1][4],4)\n",
    "d_imperv =round(param_values[1][5],4)\n",
    "print(\"new parameters -->         S1               \", n_imperv,\"       \", n_perv,\"       \", d_imperv,\"       \",d_perv)\n",
    "\n",
    "# set Ks\n",
    "Ks=40\n",
    "H_i=0\n",
    "IMD=0\n",
    "\n",
    "#run update_inp function to update .inp file with the parameters from above\n",
    "update_inp(read_path,write_path,n_imperv,n_perv,d_imperv,d_perv,Ks,H_i,IMD)\n",
    "\n",
    "\n",
    "#step through output and print the line of the .inp file that has the updates\n",
    "with open(write_path) as f:\n",
    "    for i, line in enumerate(f, 1):\n",
    "        if i ==dstor_line:\n",
    "            break\n",
    "print(\"updated .inp file         \", line)           \n"
   ]
  },
  {
   "cell_type": "markdown",
   "metadata": {},
   "source": [
    "### Now run all parameters and update .inp file each time"
   ]
  },
  {
   "cell_type": "code",
   "execution_count": 7,
   "metadata": {},
   "outputs": [
    {
     "name": "stdout",
     "output_type": "stream",
     "text": [
      "2\n",
      "20\n",
      "1\n"
     ]
    },
    {
     "ename": "KeyboardInterrupt",
     "evalue": "",
     "output_type": "error",
     "traceback": [
      "\u001b[1;31m---------------------------------------------------------------------------\u001b[0m",
      "\u001b[1;31mKeyboardInterrupt\u001b[0m                         Traceback (most recent call last)",
      "\u001b[1;32m<ipython-input-7-d0e4ab792b87>\u001b[0m in \u001b[0;36m<module>\u001b[1;34m\u001b[0m\n\u001b[0;32m     46\u001b[0m \u001b[1;33m\u001b[0m\u001b[0m\n\u001b[0;32m     47\u001b[0m                     \u001b[0mupdate_inp\u001b[0m\u001b[1;33m(\u001b[0m\u001b[0mread_path\u001b[0m\u001b[1;33m,\u001b[0m\u001b[0mwrite_path\u001b[0m\u001b[1;33m,\u001b[0m\u001b[0mn_imperv\u001b[0m\u001b[1;33m,\u001b[0m\u001b[0mn_perv\u001b[0m\u001b[1;33m,\u001b[0m\u001b[0md_imperv\u001b[0m\u001b[1;33m,\u001b[0m\u001b[0md_perv\u001b[0m\u001b[1;33m,\u001b[0m\u001b[0mKs\u001b[0m\u001b[1;33m,\u001b[0m\u001b[1;36m0\u001b[0m\u001b[1;33m,\u001b[0m\u001b[1;36m0\u001b[0m\u001b[1;33m)\u001b[0m\u001b[1;33m\u001b[0m\u001b[1;33m\u001b[0m\u001b[0m\n\u001b[1;32m---> 48\u001b[1;33m                     \u001b[0minfiltration\u001b[0m\u001b[1;33m,\u001b[0m\u001b[0mrunoff\u001b[0m\u001b[1;33m=\u001b[0m\u001b[0mrun_sim_sens\u001b[0m\u001b[1;33m(\u001b[0m\u001b[0mwrite_path\u001b[0m\u001b[1;33m,\u001b[0m\u001b[0mA1\u001b[0m\u001b[1;33m,\u001b[0m\u001b[0mA2\u001b[0m\u001b[1;33m,\u001b[0m\u001b[0mA3\u001b[0m\u001b[1;33m,\u001b[0m\u001b[0mW\u001b[0m\u001b[1;33m,\u001b[0m\u001b[0mW\u001b[0m\u001b[1;33m,\u001b[0m\u001b[0mW\u001b[0m\u001b[1;33m,\u001b[0m\u001b[0mS\u001b[0m\u001b[1;33m,\u001b[0m\u001b[0mP\u001b[0m\u001b[1;33m)\u001b[0m\u001b[1;33m\u001b[0m\u001b[1;33m\u001b[0m\u001b[0m\n\u001b[0m\u001b[0;32m     49\u001b[0m                     \u001b[0mtotal\u001b[0m\u001b[1;33m=\u001b[0m\u001b[0minfiltration\u001b[0m\u001b[1;33m+\u001b[0m\u001b[0mrunoff\u001b[0m\u001b[1;33m\u001b[0m\u001b[1;33m\u001b[0m\u001b[0m\n\u001b[0;32m     50\u001b[0m                     \u001b[0mIF\u001b[0m\u001b[1;33m=\u001b[0m\u001b[0minfiltration\u001b[0m\u001b[1;33m/\u001b[0m\u001b[0mtotal\u001b[0m\u001b[1;33m\u001b[0m\u001b[1;33m\u001b[0m\u001b[0m\n",
      "\u001b[1;32m~\\OneDrive\\Desktop\\SWMM_SVE\\FINAL_FILES_v2\\functions\\swmm_sobol.py\u001b[0m in \u001b[0;36mrun_sim_sens\u001b[1;34m(write_path, A1, A2, A3, W1, W2, W3, S, P)\u001b[0m\n\u001b[0;32m     51\u001b[0m             \u001b[1;32mpass\u001b[0m\u001b[1;33m\u001b[0m\u001b[1;33m\u001b[0m\u001b[0m\n\u001b[0;32m     52\u001b[0m         \u001b[0msystem_routing\u001b[0m \u001b[1;33m=\u001b[0m \u001b[0mSystemStats\u001b[0m\u001b[1;33m(\u001b[0m\u001b[0msim\u001b[0m\u001b[1;33m)\u001b[0m\u001b[1;33m\u001b[0m\u001b[1;33m\u001b[0m\u001b[0m\n\u001b[1;32m---> 53\u001b[1;33m         \u001b[0msim\u001b[0m\u001b[1;33m.\u001b[0m\u001b[0mreport\u001b[0m\u001b[1;33m(\u001b[0m\u001b[1;33m)\u001b[0m\u001b[1;33m\u001b[0m\u001b[1;33m\u001b[0m\u001b[0m\n\u001b[0m\u001b[0;32m     54\u001b[0m         \u001b[0md\u001b[0m\u001b[1;33m=\u001b[0m\u001b[0msystem_routing\u001b[0m\u001b[1;33m.\u001b[0m\u001b[0mrunoff_stats\u001b[0m \u001b[1;31m# sets dictionary keys\u001b[0m\u001b[1;33m\u001b[0m\u001b[1;33m\u001b[0m\u001b[0m\n\u001b[0;32m     55\u001b[0m         \u001b[0minfiltration\u001b[0m\u001b[1;33m=\u001b[0m\u001b[0md\u001b[0m\u001b[1;33m[\u001b[0m\u001b[1;34m'infiltration'\u001b[0m\u001b[1;33m]\u001b[0m\u001b[1;33m\u001b[0m\u001b[1;33m\u001b[0m\u001b[0m\n",
      "\u001b[1;32m~\\Anaconda3\\lib\\site-packages\\pyswmm\\simulation.py\u001b[0m in \u001b[0;36mreport\u001b[1;34m(self)\u001b[0m\n\u001b[0;32m    364\u001b[0m         \u001b[1;33m...\u001b[0m     \u001b[0msim\u001b[0m\u001b[1;33m.\u001b[0m\u001b[0mreport\u001b[0m\u001b[1;33m(\u001b[0m\u001b[1;33m)\u001b[0m\u001b[1;33m\u001b[0m\u001b[1;33m\u001b[0m\u001b[0m\n\u001b[0;32m    365\u001b[0m         \"\"\"\n\u001b[1;32m--> 366\u001b[1;33m         \u001b[0mself\u001b[0m\u001b[1;33m.\u001b[0m\u001b[0m_model\u001b[0m\u001b[1;33m.\u001b[0m\u001b[0mswmm_report\u001b[0m\u001b[1;33m(\u001b[0m\u001b[1;33m)\u001b[0m\u001b[1;33m\u001b[0m\u001b[1;33m\u001b[0m\u001b[0m\n\u001b[0m\u001b[0;32m    367\u001b[0m \u001b[1;33m\u001b[0m\u001b[0m\n\u001b[0;32m    368\u001b[0m     \u001b[1;32mdef\u001b[0m \u001b[0mclose\u001b[0m\u001b[1;33m(\u001b[0m\u001b[0mself\u001b[0m\u001b[1;33m)\u001b[0m\u001b[1;33m:\u001b[0m\u001b[1;33m\u001b[0m\u001b[1;33m\u001b[0m\u001b[0m\n",
      "\u001b[1;32m~\\Anaconda3\\lib\\site-packages\\pyswmm\\swmm5.py\u001b[0m in \u001b[0;36mswmm_report\u001b[1;34m(self)\u001b[0m\n\u001b[0;32m    395\u001b[0m         \u001b[1;33m>>\u001b[0m\u001b[1;33m>\u001b[0m \u001b[0mswmm_model\u001b[0m\u001b[1;33m.\u001b[0m\u001b[0mswmm_close\u001b[0m\u001b[1;33m(\u001b[0m\u001b[1;33m)\u001b[0m\u001b[1;33m\u001b[0m\u001b[1;33m\u001b[0m\u001b[0m\n\u001b[0;32m    396\u001b[0m         \"\"\"\n\u001b[1;32m--> 397\u001b[1;33m         \u001b[0merrcode\u001b[0m \u001b[1;33m=\u001b[0m \u001b[0mself\u001b[0m\u001b[1;33m.\u001b[0m\u001b[0mSWMMlibobj\u001b[0m\u001b[1;33m.\u001b[0m\u001b[0mswmm_report\u001b[0m\u001b[1;33m(\u001b[0m\u001b[1;33m)\u001b[0m\u001b[1;33m\u001b[0m\u001b[1;33m\u001b[0m\u001b[0m\n\u001b[0m\u001b[0;32m    398\u001b[0m         \u001b[0mself\u001b[0m\u001b[1;33m.\u001b[0m\u001b[0m_error_check\u001b[0m\u001b[1;33m(\u001b[0m\u001b[0merrcode\u001b[0m\u001b[1;33m)\u001b[0m\u001b[1;33m\u001b[0m\u001b[1;33m\u001b[0m\u001b[0m\n\u001b[0;32m    399\u001b[0m \u001b[1;33m\u001b[0m\u001b[0m\n",
      "\u001b[1;31mKeyboardInterrupt\u001b[0m: "
     ]
    }
   ],
   "source": [
    "folder='sensitivity'\n",
    "# dur='30min'\n",
    "\n",
    "#run for five fVs\n",
    "fVs=[0.1,0.3,0.5,0.7,0.9]\n",
    "\n",
    "#run for 3 rainfall intensities\n",
    "Ps=[2,5,8]\n",
    "\n",
    "#run for three soil ksat values\n",
    "Kss=[20,50,80]\n",
    "\n",
    "Slopes=[1,5,10]\n",
    "\n",
    "for i,p in enumerate(Ps):\n",
    "    \n",
    "    P = p\n",
    "    print(P)\n",
    "    write_path,read_path,out_path,run=paths(P,parent_dir,'SWMM_inp\\\\sensitivity')\n",
    "\n",
    "    for j,S in enumerate(Kss):\n",
    "        Ks=S\n",
    "        print(Ks)\n",
    "        \n",
    "        for k,slope in enumerate(Slopes):\n",
    "            S=slope\n",
    "            print(S)\n",
    "\n",
    "            for f,fV in enumerate(fVs):\n",
    "                Y = np.zeros([param_values.shape[0]])\n",
    "                for m, X in enumerate(param_values):\n",
    "                    \n",
    "                    k_width=param_values[m][0]\n",
    "                    f_routed=param_values[m][1]\n",
    "                    n_perv= round(param_values[m][2],4)\n",
    "                    n_imperv=round(param_values[m][3],4)\n",
    "                    d_perv=round(param_values[m][4],4)\n",
    "                    d_imperv=round(param_values[m][5],4)\n",
    "\n",
    "                    A=50*100*0.0001 #A in hectares\n",
    "                    TIA=(1.-fV)*A #TIA in hectares\n",
    "                    A2=A-TIA #A2 in hectares\n",
    "                    A3=f_routed*TIA #A3 in hectares\n",
    "                    A1=TIA-A3 #A1 in hectares\n",
    "                    W=k_width*(A/0.0001) #W in m\n",
    "\n",
    "                    update_inp(read_path,write_path,n_imperv,n_perv,d_imperv,d_perv,Ks,0,0)\n",
    "                    infiltration,runoff=run_sim_sens(write_path,A1,A2,A3,W,W,W,S,P)\n",
    "                    total=infiltration+runoff\n",
    "                    IF=infiltration/total\n",
    "                    Y[m]=IF\n",
    "\n",
    "                name=\"P_\"+str(P)+\",Ks_\"+str(Ks)+\",fI_\"+str(round(1-fV,2))+\",S_\"+str(S)+\".pickle\"\n",
    "                loc = '\\\\'.join([parent_dir, 'out\\\\sensitivity\\\\'+str(name)])\n",
    "                print(loc)\n",
    "                \n",
    "                with open(loc, 'wb') as handle:\n",
    "                    pickle.dump(Y, handle, protocol=pickle.HIGHEST_PROTOCOL)"
   ]
  },
  {
   "cell_type": "code",
   "execution_count": 28,
   "metadata": {},
   "outputs": [],
   "source": [
    "# Y = np.array(Y)\n",
    "\n",
    "def sobol_(Y,params):\n",
    "    Si = sobol.analyze(problem, Y, print_to_console=False)\n",
    "\n",
    "    S1      = Si['S1']\n",
    "    S1_conf = Si['S1_conf']\n",
    "    ST      = Si['ST']\n",
    "    ST_conf = Si['ST_conf']\n",
    "    S2      = Si['S2']\n",
    "    S2_conf = Si['S2_conf']\n",
    "\n",
    "    k_width=params[:,0] \n",
    "    f_routed=params[:,1]\n",
    "    n_perv = params[:,2]\n",
    "    n_imperv =params[:,3]\n",
    "    d_perv=params[:,4]\n",
    "    d_imperv =params[:,5]\n",
    "\n",
    "    \n",
    "    zipped=zip(problem['names'], Si['S1'], Si['ST'], params.mean(axis=0))\n",
    "    Si_df=pd.DataFrame(zipped,columns=[\"Name\", \"1st\", \"Total\", \"Mean of Input\"])\n",
    "    return Si_df"
   ]
  },
  {
   "cell_type": "code",
   "execution_count": 29,
   "metadata": {},
   "outputs": [],
   "source": [
    "test=sobol_(Y,param_values)"
   ]
  },
  {
   "cell_type": "code",
   "execution_count": null,
   "metadata": {},
   "outputs": [],
   "source": []
  }
 ],
 "metadata": {
  "kernelspec": {
   "display_name": "Python 3",
   "language": "python",
   "name": "python3"
  },
  "language_info": {
   "codemirror_mode": {
    "name": "ipython",
    "version": 3
   },
   "file_extension": ".py",
   "mimetype": "text/x-python",
   "name": "python",
   "nbconvert_exporter": "python",
   "pygments_lexer": "ipython3",
   "version": "3.7.4"
  }
 },
 "nbformat": 4,
 "nbformat_minor": 2
}
