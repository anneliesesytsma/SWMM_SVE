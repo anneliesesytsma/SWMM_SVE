{
 "cells": [
  {
   "cell_type": "markdown",
   "metadata": {},
   "source": [
    "# Run SWMM simulations"
   ]
  },
  {
   "cell_type": "markdown",
   "metadata": {},
   "source": [
    "###  Import packages "
   ]
  },
  {
   "cell_type": "code",
   "execution_count": 3,
   "metadata": {},
   "outputs": [],
   "source": [
    "import itertools\n",
    "import pandas as pd\n",
    "import numpy as np\n",
    "import pickle\n",
    "from itertools import combinations\n",
    "\n",
    "from pyswmm import Simulation, Nodes\n",
    "from pyswmm import Simulation, Subcatchments, SystemStats\n",
    "import matplotlib.pyplot as plt\n",
    "import seaborn as sns\n",
    "import os,sys\n",
    "import matplotlib.pyplot as plt;\n",
    "import pickle\n",
    "\n",
    "\n",
    "from pyswmm import Simulation;\n",
    "from pyswmm import Subcatchments;\n",
    "from pyswmm import Nodes;\n",
    "from pyswmm import SystemStats;\n",
    "from pyswmm import Simulation;\n",
    "from swmmtoolbox import swmmtoolbox;\n",
    "from itertools import combinations\n",
    "from os.path import dirname\n",
    "\n",
    "\n",
    "parent_dir = (dirname(os.getcwd()))\n",
    "current_dir = os.getcwd()\n",
    "sys.path.append(\"\\\\\".join([parent_dir, 'functions']) )\n",
    "\n",
    "for mod in ['swmm_sims', 'swmm_cal']:\n",
    "    if mod in sys.modules: \n",
    "        del sys.modules[mod]\n",
    "        \n",
    "import swmm_sims\n",
    "import swmm_cal\n",
    "\n",
    "from swmm_sims import *   \n",
    "from swmm_cal import *\n",
    "\n",
    "if not sys.warnoptions:\n",
    "    import warnings\n",
    "    warnings.simplefilter(\"ignore\")"
   ]
  },
  {
   "cell_type": "markdown",
   "metadata": {},
   "source": [
    "### Import sve runs\n"
   ]
  },
  {
   "cell_type": "code",
   "execution_count": 4,
   "metadata": {},
   "outputs": [],
   "source": [
    "file = os.path.join(parent_dir, 'inp_files\\\\SVE_FILES\\\\sve_core.pickle')\n",
    "sve_core = pd.read_pickle(file)"
   ]
  },
  {
   "cell_type": "code",
   "execution_count": 5,
   "metadata": {},
   "outputs": [],
   "source": [
    "#generate soils dict\n",
    "soils_dict={'Ks':[20,50,80], #K in mm/hr\n",
    "        'H_i':[0,0,0], #initial head, mm\n",
    "        'IMD':[0,0,0]\n",
    "        }  \n",
    "\n",
    "soil = pd.DataFrame(soils_dict)"
   ]
  },
  {
   "cell_type": "markdown",
   "metadata": {},
   "source": [
    "### Generate SWMM calibration parameter sets"
   ]
  },
  {
   "cell_type": "code",
   "execution_count": 6,
   "metadata": {},
   "outputs": [],
   "source": [
    "# run two_params function\n",
    "two_params(sve_core,100)\n",
    "file = os.path.join(parent_dir, 'out\\\\2params.pickle')\n",
    "\n",
    "#open params pickle\n",
    "with open(file, 'rb') as handle:\n",
    "    params = pickle.load(handle)\n",
    "    params_df = pd.DataFrame(params)"
   ]
  },
  {
   "cell_type": "markdown",
   "metadata": {},
   "source": [
    "###  Run a test model to make sure .inp file is getting updated  "
   ]
  },
  {
   "cell_type": "code",
   "execution_count": 9,
   "metadata": {},
   "outputs": [
    {
     "name": "stdout",
     "output_type": "stream",
     "text": [
      "C:\\Users\\annel\\OneDrive\\Desktop\\SWMM_SVE\\FINAL_FILES_v2\\inp_files\\SWMM_inp\\cal\\P2_WRITE.inp\n",
      "new parameters -->         S1                0.01         0.1         0         0\n",
      "S2               0\t    50         0\n",
      "\n"
     ]
    }
   ],
   "source": [
    "# enter inputs here\n",
    "P=2\n",
    "folder='cal'\n",
    "# dur='30min'\n",
    "dstor_line = 63\n",
    "perm_line = 71\n",
    "\n",
    "#run path function to define write, read, and output file paths\n",
    "write_path,read_path,out_path,run=paths(P,parent_dir,'SWMM_inp\\\\cal')\n",
    "    \n",
    "print(write_path)\n",
    "\n",
    "# set some random parameter values to update to\n",
    "n_imperv= 0.01\n",
    "n_perv=0.1\n",
    "d_imperv=0\n",
    "d_perv=0\n",
    "Ks=50\n",
    "H_i=0\n",
    "IMD=0\n",
    "\n",
    "print(\"new parameters -->         S1               \", n_imperv,\"       \", n_perv,\"       \", d_imperv,\"       \",d_perv)\n",
    "\n",
    "#step through input and print the line of the .inp file to be updated\n",
    "update_inp(read_path,write_path,n_imperv,n_perv,d_imperv,d_perv,Ks,H_i,IMD)\n",
    "\n",
    "with open(write_path) as f:\n",
    "    for i, line in enumerate(f, 1):\n",
    "        if i ==perm_line:\n",
    "            break\n",
    "print(line)         "
   ]
  },
  {
   "cell_type": "markdown",
   "metadata": {},
   "source": [
    "### Now run all parameters and update .inp file each time"
   ]
  },
  {
   "cell_type": "code",
   "execution_count": null,
   "metadata": {},
   "outputs": [
    {
     "name": "stdout",
     "output_type": "stream",
     "text": [
      "2\n",
      "{'drains': 0.0, 'evaporation': 0.0, 'final_snow_cover': 0.0, 'final_storage': 0.0, 'infiltration': 597.0627148442712, 'init_snow_cover': 0.0, 'init_storage': 0.0, 'routing_error': 0.0, 'rainfall': 9.999999999999996, 'runoff': 500.30632068085043, 'runon': 0.0, 'snow_removed': 0.0}\n"
     ]
    }
   ],
   "source": [
    "#run for all Ps, Kss\n",
    "Ps = [2,5,8]\n",
    "dur='30min'\n",
    "folder='cal'\n",
    "for i,p in enumerate(Ps):\n",
    "    P=p\n",
    "    print(P)\n",
    "    # set paths (write and read inp files, out folder)\n",
    "    write_path,read_path,out_path,run=paths(P,parent_dir,'SWMM_inp\\\\cal')\n",
    "    # test simulation on write path\n",
    "    test_sim(write_path)\n",
    "\n",
    "    import time\n",
    "    start = time.time()\n",
    "\n",
    "    perm_line = 71\n",
    "    data1=dict()\n",
    "    j=len(soil)\n",
    "    g=dict()\n",
    "    data=pd.DataFrame()\n",
    "    data2df=pd.DataFrame()\n",
    "\n",
    "    if P==2:\n",
    "        params=params_df.loc[params_df['p']==2.0].copy()\n",
    "    if P==5:\n",
    "        params=params_df.loc[params_df['p']==5.0].copy()\n",
    "    else:\n",
    "        params=params_df.loc[params_df['p']==8.0].copy()\n",
    "\n",
    "    for index, row in params.iterrows():\n",
    "\n",
    "        data2df=data2df\n",
    "        A1=row['A1']\n",
    "        A2=row['A2']\n",
    "        A3=row['A3']\n",
    "        W1=row['W1']\n",
    "        W2=row['W2']\n",
    "        W3=row['W3']\n",
    "        Adc_frac=row['Adc_frac']\n",
    "        fV=row['fV']\n",
    "        A_imp=row['A_imp']\n",
    "        image=row['image']\n",
    "        n_imperv= 0.01\n",
    "        n_perv=0.1\n",
    "        d_imperv=0\n",
    "        d_perv=0\n",
    "    \n",
    "        for i in range(j):\n",
    "            data=pd.DataFrame()\n",
    "            Ks=soil[\"Ks\"][i] #    pulls the K value from soil dictionary\n",
    "            H_i=soil[\"H_i\"][i] #    suction head\n",
    "            IMD=soil[\"IMD\"][i] #    initial moisture deficit\n",
    "\n",
    "            update_inp(read_path,write_path,n_imperv,n_perv,d_imperv,d_perv,Ks,H_i,IMD)\n",
    "            \n",
    "            from time import sleep\n",
    "            for x in range(0, 4):  # try 4 times\n",
    "\n",
    "                try:\n",
    "                    infiltration,runoff,rainfall,stor=run_sim_cal(write_path,A1,A2,A3,W1,W2,W3,1,P)\n",
    "                    # msg.send()\n",
    "\n",
    "                    str_error = None\n",
    "\n",
    "                except:\n",
    "                    str_error = True\n",
    "    #                 pass\n",
    "\n",
    "                if str_error==True:\n",
    "                    sleep(10)  # wait for 2 seconds before trying to fetch the data again\n",
    "                else:  \n",
    "                    break\n",
    "\n",
    "\n",
    "\n",
    "            data.set_value(i,'infiltration',infiltration)\n",
    "            data.set_value(i,'runoff',runoff)\n",
    "            data.set_value(i,'rainfall_mm',rainfall)\n",
    "            data.set_value(i,'stor_mm',stor)\n",
    "\n",
    "            data.set_value(i,'param',index)\n",
    "            data.set_value(i,'A1',A1)\n",
    "            data.set_value(i,'A2',A2)\n",
    "            data.set_value(i,'A3',A3)\n",
    "            data.set_value(i,'Adc_frac',Adc_frac)\n",
    "            data.set_value(i,'fV',fV)\n",
    "            data.set_value(i,'A_imp',A_imp)\n",
    "            data.set_value(i,'W',W1)\n",
    "            data.set_value(i,'P',P)\n",
    "            data.set_value(i,'H_i',H_i)\n",
    "            data.set_value(i,'Ks',Ks)\n",
    "            data.set_value(i,'IMD',IMD)\n",
    "            data.set_value(i,'soil',i)\n",
    "            data.set_value(i,'image',image)\n",
    "            data1.update(data)   \n",
    "\n",
    "            data1df=pd.DataFrame(data1)\n",
    "            frames1=[data1df,data2df]\n",
    "            data2df=pd.concat(frames1)  \n",
    "            data2df['run']=run\n",
    "\n",
    "\n",
    "    data2df['Ks']=(data2df['Ks']/10).astype(float).round(1)\n",
    "    data2df=data2df.reset_index()\n",
    "    for key in data2df.index:\n",
    "        sim = data2df.loc[key]\n",
    "        scenario = \"p-{0},Ks-{1}\".format(sim.P,sim.Ks)\n",
    "        data2df.loc[key,\"scenario\"] = scenario\n",
    "\n",
    "    data2df['run']=run\n",
    "    data2df['total']=data2df['infiltration']+data2df['runoff']\n",
    "    data2df['IF']=data2df['infiltration']/(data2df['total'])\n",
    "\n",
    "    name = '\\\\'.join([parent_dir, 'out\\\\cal\\\\'+str(run)+'.pickle'])\n",
    "    with open(name, 'wb') as handle:\n",
    "        pickle.dump(data2df, handle, protocol=pickle.HIGHEST_PROTOCOL)\n",
    "\n",
    "    end = time.time()\n",
    "    print(end - start)"
   ]
  },
  {
   "cell_type": "code",
   "execution_count": null,
   "metadata": {},
   "outputs": [],
   "source": []
  }
 ],
 "metadata": {
  "kernelspec": {
   "display_name": "Python 3",
   "language": "python",
   "name": "python3"
  },
  "language_info": {
   "codemirror_mode": {
    "name": "ipython",
    "version": 3
   },
   "file_extension": ".py",
   "mimetype": "text/x-python",
   "name": "python",
   "nbconvert_exporter": "python",
   "pygments_lexer": "ipython3",
   "version": "3.7.4"
  }
 },
 "nbformat": 4,
 "nbformat_minor": 2
}
